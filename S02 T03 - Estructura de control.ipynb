{
 "cells": [
  {
   "cell_type": "markdown",
   "id": "9b5405ef",
   "metadata": {
    "heading_collapsed": true
   },
   "source": [
    "# Exercici 1"
   ]
  },
  {
   "cell_type": "markdown",
   "id": "cbce526e",
   "metadata": {
    "hidden": true
   },
   "source": [
    "L'exercici consisteix a crear un programa que et classifiqui una variable numèrica en funció de l’escala Suspès/Aprovat/Notable/Excel·lent."
   ]
  },
  {
   "cell_type": "code",
   "execution_count": null,
   "id": "820b3735",
   "metadata": {
    "hidden": true
   },
   "outputs": [],
   "source": [
    "nota = double(input(\"Introdueix la teva nota:\"))\n",
    "if nota >= 9:\n",
    "    res = \"Excel·lent\"\n",
    "elif nota < 9 and nota >= 7:\n",
    "    res = \"Notable\"\n",
    "elif nota < 7 and nota >= 5:\n",
    "    res = \"Aprovat\"\n",
    "else:\n",
    "    res = \"Suspès\"\n",
    "print(res)"
   ]
  },
  {
   "cell_type": "markdown",
   "id": "3fbc8617",
   "metadata": {
    "heading_collapsed": true
   },
   "source": [
    "# Exercici 2"
   ]
  },
  {
   "cell_type": "markdown",
   "id": "d35c7a78",
   "metadata": {
    "hidden": true
   },
   "source": [
    "Utilitzant el següent tutorial Programiz: Python Input, Output and Import crea un programa que et pregunti dos números. T’ha de mostrar un missatge dient si el primer és més gran, el segon és més gran o són iguals."
   ]
  },
  {
   "cell_type": "code",
   "execution_count": null,
   "id": "3478d783",
   "metadata": {
    "hidden": true
   },
   "outputs": [],
   "source": [
    "num1 = int(input(\"Introdueix un número: \"))\n",
    "num2 = int(input(\"Introdueix un altre número: \"))\n",
    "if num1 > num2:\n",
    "    res = \"El primer número és més gran que el segon\"\n",
    "elif num1 < num2:\n",
    "    res = \"El segon número és més gran que el primer\"\n",
    "else:\n",
    "    res = \"Els dos números són iguals\"\n",
    "print(res)"
   ]
  },
  {
   "cell_type": "markdown",
   "id": "405c40a6",
   "metadata": {
    "heading_collapsed": true
   },
   "source": [
    "# Exercici 3"
   ]
  },
  {
   "cell_type": "markdown",
   "id": "1c5c9ba7",
   "metadata": {
    "hidden": true
   },
   "source": [
    "Crea un programa que et pregunti el teu nom, i et demani un número. Si el número és 0, hauria de mostrar un missatge d’error. En cas contrari, hauria de mostrar el nom repetit tants cops com indiqui el número. Per exemple, “Joan Joan Joan”."
   ]
  },
  {
   "cell_type": "code",
   "execution_count": null,
   "id": "3ade75f3",
   "metadata": {
    "hidden": true
   },
   "outputs": [],
   "source": [
    "nom = input(\"Quin és el teu nom? \")\n",
    "x = int(input(\"Quants cops el vols repetir? \"))\n",
    "i = 0\n",
    "while i < x:\n",
    "    print(nom)\n",
    "    i += 1"
   ]
  },
  {
   "cell_type": "markdown",
   "id": "e4f3fc42",
   "metadata": {},
   "source": [
    "# Exercici 4"
   ]
  },
  {
   "cell_type": "markdown",
   "id": "30985cdf",
   "metadata": {},
   "source": [
    "Crea un programa que donada una llista qualsevol, et digui si es simètrica o no. Si ho és, que et digui quants elements té."
   ]
  },
  {
   "cell_type": "code",
   "execution_count": 26,
   "id": "a28b8b3f",
   "metadata": {},
   "outputs": [],
   "source": [
    "def crear_llista():\n",
    "    llista = []\n",
    "    x = int(input(\"Introdueix el nombre d'elements: \"))\n",
    "    for i in range(0, x):\n",
    "        ele = int(input(\"Inrodueix un element: \"))\n",
    "        llista.append(ele)\n",
    "    return llista"
   ]
  },
  {
   "cell_type": "code",
   "execution_count": 4,
   "id": "f0849055",
   "metadata": {},
   "outputs": [],
   "source": [
    "def rev_llista(llista):\n",
    "    rev_llista = llista[: : -1]\n",
    "    return rev_llista"
   ]
  },
  {
   "cell_type": "code",
   "execution_count": 7,
   "id": "80d12047",
   "metadata": {},
   "outputs": [
    {
     "name": "stdout",
     "output_type": "stream",
     "text": [
      "Introdueix el nombre d'elements: 3\n",
      "Inrodueix un element: 4\n",
      "Inrodueix un element: 5\n",
      "Inrodueix un element: 4\n",
      "['4', '5', '4']\n",
      "['4', '5', '4']\n",
      "La llista és simètrica. Té  3  elements\n"
     ]
    }
   ],
   "source": [
    "llista = crear_llista()\n",
    "llista2 = rev_llista(llista)\n",
    "print(llista2)\n",
    "print(llista)\n",
    "if llista == llista2:\n",
    "    print(\"La llista és simètrica. Té\", len(llista), \"elements\")\n",
    "else:\n",
    "    print(\"La llista no és simètrica\")"
   ]
  },
  {
   "cell_type": "markdown",
   "id": "c920d7cf",
   "metadata": {},
   "source": [
    "# Exercici 5"
   ]
  },
  {
   "cell_type": "markdown",
   "id": "7b7b7daa",
   "metadata": {},
   "source": [
    "Crea un programa que donada una llista, et digui quants números coincideixen amb la seva posició. Per exemple [3,4,2,0,2,3,6] el 2 i el 6 coincideixen."
   ]
  },
  {
   "cell_type": "code",
   "execution_count": 31,
   "id": "184323bf",
   "metadata": {},
   "outputs": [
    {
     "name": "stdout",
     "output_type": "stream",
     "text": [
      "Introdueix el nombre d'elements: 3\n",
      "Inrodueix un element: 4\n",
      "Inrodueix un element: 1\n",
      "Inrodueix un element: 6\n",
      "1 coincideix amb el valor de la seva posició\n"
     ]
    }
   ],
   "source": [
    "def posicio_ordre(llista):\n",
    "    for i in llista:\n",
    "        if i == llista.index(i):\n",
    "            print(i, \"coincideix amb el valor de la seva posició\")\n",
    "\n",
    "posicio_ordre(crear_llista())\n",
    "#posicio_ordre(crear_llista())"
   ]
  }
 ],
 "metadata": {
  "kernelspec": {
   "display_name": "Python 3 (ipykernel)",
   "language": "python",
   "name": "python3"
  },
  "language_info": {
   "codemirror_mode": {
    "name": "ipython",
    "version": 3
   },
   "file_extension": ".py",
   "mimetype": "text/x-python",
   "name": "python",
   "nbconvert_exporter": "python",
   "pygments_lexer": "ipython3",
   "version": "3.9.7"
  },
  "toc": {
   "base_numbering": 1,
   "nav_menu": {},
   "number_sections": true,
   "sideBar": true,
   "skip_h1_title": false,
   "title_cell": "Table of Contents",
   "title_sidebar": "Contents",
   "toc_cell": false,
   "toc_position": {},
   "toc_section_display": true,
   "toc_window_display": false
  }
 },
 "nbformat": 4,
 "nbformat_minor": 5
}
